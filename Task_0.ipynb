{
  "nbformat": 4,
  "nbformat_minor": 0,
  "metadata": {
    "colab": {
      "name": "Task_0.ipynb",
      "provenance": [],
      "collapsed_sections": [],
      "mount_file_id": "1cMxr3Da_nWgD8CQ3_3VwluWcM-tiJefS",
      "authorship_tag": "ABX9TyPs5FxudADECNNLEF12/MWQ",
      "include_colab_link": true
    },
    "kernelspec": {
      "name": "python3",
      "display_name": "Python 3"
    },
    "language_info": {
      "name": "python"
    }
  },
  "cells": [
    {
      "cell_type": "markdown",
      "metadata": {
        "id": "view-in-github",
        "colab_type": "text"
      },
      "source": [
        "<a href=\"https://colab.research.google.com/github/AbrarHussain123/Task0-Titanic-Exploration/blob/main/Task_0.ipynb\" target=\"_parent\"><img src=\"https://colab.research.google.com/assets/colab-badge.svg\" alt=\"Open In Colab\"/></a>"
      ]
    },
    {
      "cell_type": "code",
      "metadata": {
        "id": "IHwmeRxYCr0M"
      },
      "source": [
        "import pandas as pd\n",
        "import numpy as np\n",
        "import seaborn as sns\n",
        "from matplotlib import pyplot as plt\n",
        "\n"
      ],
      "execution_count": 33,
      "outputs": []
    },
    {
      "cell_type": "code",
      "metadata": {
        "colab": {
          "base_uri": "https://localhost:8080/"
        },
        "id": "TMPvipNUDUIT",
        "outputId": "4f336c7d-721f-4dbe-c37b-bbd1cefeddbd"
      },
      "source": [
        "from google.colab import drive\n",
        "drive.mount('/gdrive')\n",
        "%cd /gdrive"
      ],
      "execution_count": 1,
      "outputs": [
        {
          "output_type": "stream",
          "name": "stdout",
          "text": [
            "Mounted at /gdrive\n",
            "/gdrive\n"
          ]
        }
      ]
    },
    {
      "cell_type": "code",
      "metadata": {
        "colab": {
          "base_uri": "https://localhost:8080/"
        },
        "id": "S10NcEclDvW2",
        "outputId": "6f463fa7-baa0-4e98-da09-b8e535a0213e"
      },
      "source": [
        "file = '/content/drive/MyDrive/titanic/gender_submission.csv'\n",
        "df = pd.read_csv(file)\n",
        "\n",
        "print(df)"
      ],
      "execution_count": 10,
      "outputs": [
        {
          "output_type": "stream",
          "name": "stdout",
          "text": [
            "     PassengerId  Survived\n",
            "0            892         0\n",
            "1            893         1\n",
            "2            894         0\n",
            "3            895         0\n",
            "4            896         1\n",
            "..           ...       ...\n",
            "413         1305         0\n",
            "414         1306         1\n",
            "415         1307         0\n",
            "416         1308         0\n",
            "417         1309         0\n",
            "\n",
            "[418 rows x 2 columns]\n"
          ]
        }
      ]
    },
    {
      "cell_type": "code",
      "metadata": {
        "colab": {
          "base_uri": "https://localhost:8080/"
        },
        "id": "NS_3oCdeFKTg",
        "outputId": "02b46464-1c28-420a-b0ca-aaa012170745"
      },
      "source": [
        "file = r'/content/drive/MyDrive/titanic/test.csv'\n",
        "df = pd.read_csv(file)\n",
        "  \n",
        "print(df)"
      ],
      "execution_count": 11,
      "outputs": [
        {
          "output_type": "stream",
          "name": "stdout",
          "text": [
            "     PassengerId  Pclass                                          Name  \\\n",
            "0            892       3                              Kelly, Mr. James   \n",
            "1            893       3              Wilkes, Mrs. James (Ellen Needs)   \n",
            "2            894       2                     Myles, Mr. Thomas Francis   \n",
            "3            895       3                              Wirz, Mr. Albert   \n",
            "4            896       3  Hirvonen, Mrs. Alexander (Helga E Lindqvist)   \n",
            "..           ...     ...                                           ...   \n",
            "413         1305       3                            Spector, Mr. Woolf   \n",
            "414         1306       1                  Oliva y Ocana, Dona. Fermina   \n",
            "415         1307       3                  Saether, Mr. Simon Sivertsen   \n",
            "416         1308       3                           Ware, Mr. Frederick   \n",
            "417         1309       3                      Peter, Master. Michael J   \n",
            "\n",
            "        Sex   Age  SibSp  Parch              Ticket      Fare Cabin Embarked  \n",
            "0      male  34.5      0      0              330911    7.8292   NaN        Q  \n",
            "1    female  47.0      1      0              363272    7.0000   NaN        S  \n",
            "2      male  62.0      0      0              240276    9.6875   NaN        Q  \n",
            "3      male  27.0      0      0              315154    8.6625   NaN        S  \n",
            "4    female  22.0      1      1             3101298   12.2875   NaN        S  \n",
            "..      ...   ...    ...    ...                 ...       ...   ...      ...  \n",
            "413    male   NaN      0      0           A.5. 3236    8.0500   NaN        S  \n",
            "414  female  39.0      0      0            PC 17758  108.9000  C105        C  \n",
            "415    male  38.5      0      0  SOTON/O.Q. 3101262    7.2500   NaN        S  \n",
            "416    male   NaN      0      0              359309    8.0500   NaN        S  \n",
            "417    male   NaN      1      1                2668   22.3583   NaN        C  \n",
            "\n",
            "[418 rows x 11 columns]\n"
          ]
        }
      ]
    },
    {
      "cell_type": "code",
      "metadata": {
        "colab": {
          "base_uri": "https://localhost:8080/"
        },
        "id": "NHjX0RgCi98e",
        "outputId": "f58d82e0-fd20-42b0-dad6-4c490b7b2e0e"
      },
      "source": [
        "\n",
        "d1=df.dropna()\n",
        "print(d1)"
      ],
      "execution_count": 12,
      "outputs": [
        {
          "output_type": "stream",
          "name": "stdout",
          "text": [
            "     PassengerId  Pclass                                               Name  \\\n",
            "12           904       1      Snyder, Mrs. John Pillsbury (Nelle Stevenson)   \n",
            "14           906       1  Chaffee, Mrs. Herbert Fuller (Carrie Constance...   \n",
            "24           916       1    Ryerson, Mrs. Arthur Larned (Emily Maria Borie)   \n",
            "26           918       1                       Ostby, Miss. Helene Ragnhild   \n",
            "28           920       1                            Brady, Mr. John Bertram   \n",
            "..           ...     ...                                                ...   \n",
            "404         1296       1                       Frauenthal, Mr. Isaac Gerald   \n",
            "405         1297       2       Nourney, Mr. Alfred (Baron von Drachstedt\")\"   \n",
            "407         1299       1                         Widener, Mr. George Dunton   \n",
            "411         1303       1    Minahan, Mrs. William Edward (Lillian E Thorpe)   \n",
            "414         1306       1                       Oliva y Ocana, Dona. Fermina   \n",
            "\n",
            "        Sex   Age  SibSp  Parch         Ticket      Fare            Cabin  \\\n",
            "12   female  23.0      1      0          21228   82.2667              B45   \n",
            "14   female  47.0      1      0    W.E.P. 5734   61.1750              E31   \n",
            "24   female  48.0      1      3       PC 17608  262.3750  B57 B59 B63 B66   \n",
            "26   female  22.0      0      1         113509   61.9792              B36   \n",
            "28     male  41.0      0      0         113054   30.5000              A21   \n",
            "..      ...   ...    ...    ...            ...       ...              ...   \n",
            "404    male  43.0      1      0          17765   27.7208              D40   \n",
            "405    male  20.0      0      0  SC/PARIS 2166   13.8625              D38   \n",
            "407    male  50.0      1      1         113503  211.5000              C80   \n",
            "411  female  37.0      1      0          19928   90.0000              C78   \n",
            "414  female  39.0      0      0       PC 17758  108.9000             C105   \n",
            "\n",
            "    Embarked  \n",
            "12         S  \n",
            "14         S  \n",
            "24         C  \n",
            "26         C  \n",
            "28         S  \n",
            "..       ...  \n",
            "404        C  \n",
            "405        C  \n",
            "407        C  \n",
            "411        Q  \n",
            "414        C  \n",
            "\n",
            "[87 rows x 11 columns]\n"
          ]
        }
      ]
    },
    {
      "cell_type": "code",
      "metadata": {
        "colab": {
          "base_uri": "https://localhost:8080/"
        },
        "id": "9wb4fXFFjXXl",
        "outputId": "19658733-a808-44cb-ea27-289f874ad0a1"
      },
      "source": [
        "file1='/content/drive/MyDrive/titanic/train.csv'\n",
        "d2 = pd.read_csv(file1)\n",
        "d2=d2.drop(['Name', 'PassengerId'], axis = 1)\n",
        "print(d2)"
      ],
      "execution_count": 13,
      "outputs": [
        {
          "output_type": "stream",
          "name": "stdout",
          "text": [
            "     Survived  Pclass     Sex   Age  SibSp  Parch            Ticket     Fare  \\\n",
            "0           0       3    male  22.0      1      0         A/5 21171   7.2500   \n",
            "1           1       1  female  38.0      1      0          PC 17599  71.2833   \n",
            "2           1       3  female  26.0      0      0  STON/O2. 3101282   7.9250   \n",
            "3           1       1  female  35.0      1      0            113803  53.1000   \n",
            "4           0       3    male  35.0      0      0            373450   8.0500   \n",
            "..        ...     ...     ...   ...    ...    ...               ...      ...   \n",
            "886         0       2    male  27.0      0      0            211536  13.0000   \n",
            "887         1       1  female  19.0      0      0            112053  30.0000   \n",
            "888         0       3  female   NaN      1      2        W./C. 6607  23.4500   \n",
            "889         1       1    male  26.0      0      0            111369  30.0000   \n",
            "890         0       3    male  32.0      0      0            370376   7.7500   \n",
            "\n",
            "    Cabin Embarked  \n",
            "0     NaN        S  \n",
            "1     C85        C  \n",
            "2     NaN        S  \n",
            "3    C123        S  \n",
            "4     NaN        S  \n",
            "..    ...      ...  \n",
            "886   NaN        S  \n",
            "887   B42        S  \n",
            "888   NaN        S  \n",
            "889  C148        C  \n",
            "890   NaN        Q  \n",
            "\n",
            "[891 rows x 10 columns]\n"
          ]
        }
      ]
    },
    {
      "cell_type": "code",
      "metadata": {
        "colab": {
          "base_uri": "https://localhost:8080/"
        },
        "id": "DV9Q4HZlo1PZ",
        "outputId": "8e8f2e3b-7a1b-4e0b-e1d9-7f8e98677851"
      },
      "source": [
        "file1='/content/drive/MyDrive/titanic/train.csv'\n",
        "d4 = pd.read_csv(file1)\n",
        "print(d4)\n"
      ],
      "execution_count": 18,
      "outputs": [
        {
          "output_type": "stream",
          "name": "stdout",
          "text": [
            "     PassengerId  Survived  Pclass  \\\n",
            "0              1         0       3   \n",
            "1              2         1       1   \n",
            "2              3         1       3   \n",
            "3              4         1       1   \n",
            "4              5         0       3   \n",
            "..           ...       ...     ...   \n",
            "886          887         0       2   \n",
            "887          888         1       1   \n",
            "888          889         0       3   \n",
            "889          890         1       1   \n",
            "890          891         0       3   \n",
            "\n",
            "                                                  Name     Sex   Age  SibSp  \\\n",
            "0                              Braund, Mr. Owen Harris    male  22.0      1   \n",
            "1    Cumings, Mrs. John Bradley (Florence Briggs Th...  female  38.0      1   \n",
            "2                               Heikkinen, Miss. Laina  female  26.0      0   \n",
            "3         Futrelle, Mrs. Jacques Heath (Lily May Peel)  female  35.0      1   \n",
            "4                             Allen, Mr. William Henry    male  35.0      0   \n",
            "..                                                 ...     ...   ...    ...   \n",
            "886                              Montvila, Rev. Juozas    male  27.0      0   \n",
            "887                       Graham, Miss. Margaret Edith  female  19.0      0   \n",
            "888           Johnston, Miss. Catherine Helen \"Carrie\"  female   NaN      1   \n",
            "889                              Behr, Mr. Karl Howell    male  26.0      0   \n",
            "890                                Dooley, Mr. Patrick    male  32.0      0   \n",
            "\n",
            "     Parch            Ticket     Fare Cabin Embarked  \n",
            "0        0         A/5 21171   7.2500   NaN        S  \n",
            "1        0          PC 17599  71.2833   C85        C  \n",
            "2        0  STON/O2. 3101282   7.9250   NaN        S  \n",
            "3        0            113803  53.1000  C123        S  \n",
            "4        0            373450   8.0500   NaN        S  \n",
            "..     ...               ...      ...   ...      ...  \n",
            "886      0            211536  13.0000   NaN        S  \n",
            "887      0            112053  30.0000   B42        S  \n",
            "888      2        W./C. 6607  23.4500   NaN        S  \n",
            "889      0            111369  30.0000  C148        C  \n",
            "890      0            370376   7.7500   NaN        Q  \n",
            "\n",
            "[891 rows x 12 columns]\n",
            "     PassengerId  Survived  Pclass  \\\n",
            "0              1         0       3   \n",
            "1              2         1       1   \n",
            "2              3         1       3   \n",
            "3              4         1       1   \n",
            "4              5         0       3   \n",
            "..           ...       ...     ...   \n",
            "716          717         1       1   \n",
            "717          718         1       2   \n",
            "718          719         0       3   \n",
            "719          720         0       3   \n",
            "720          721         1       2   \n",
            "\n",
            "                                                  Name     Sex   Age  SibSp  \\\n",
            "0                              Braund, Mr. Owen Harris    male  22.0      1   \n",
            "1    Cumings, Mrs. John Bradley (Florence Briggs Th...  female  38.0      1   \n",
            "2                               Heikkinen, Miss. Laina  female  26.0      0   \n",
            "3         Futrelle, Mrs. Jacques Heath (Lily May Peel)  female  35.0      1   \n",
            "4                             Allen, Mr. William Henry    male  35.0      0   \n",
            "..                                                 ...     ...   ...    ...   \n",
            "716                      Endres, Miss. Caroline Louise  female  38.0      0   \n",
            "717                Troutt, Miss. Edwina Celia \"Winnie\"  female  27.0      0   \n",
            "718                                McEvoy, Mr. Michael    male   NaN      0   \n",
            "719                       Johnson, Mr. Malkolm Joackim    male  33.0      0   \n",
            "720                  Harper, Miss. Annie Jessie \"Nina\"  female   6.0      0   \n",
            "\n",
            "     Parch            Ticket      Fare Cabin Embarked  \n",
            "0        0         A/5 21171    7.2500   NaN        S  \n",
            "1        0          PC 17599   71.2833   C85        C  \n",
            "2        0  STON/O2. 3101282    7.9250   NaN        S  \n",
            "3        0            113803   53.1000  C123        S  \n",
            "4        0            373450    8.0500   NaN        S  \n",
            "..     ...               ...       ...   ...      ...  \n",
            "716      0          PC 17757  227.5250   C45        C  \n",
            "717      0             34218   10.5000  E101        S  \n",
            "718      0             36568   15.5000   NaN        Q  \n",
            "719      0            347062    7.7750   NaN        S  \n",
            "720      1            248727   33.0000   NaN        S  \n",
            "\n",
            "[721 rows x 12 columns]\n"
          ]
        }
      ]
    },
    {
      "cell_type": "code",
      "metadata": {
        "colab": {
          "base_uri": "https://localhost:8080/"
        },
        "id": "O-U7DHKgqcbY",
        "outputId": "61e7b1ff-62e9-4589-850e-0171bac00da2"
      },
      "source": [
        "d6=d4.iloc[0:721]\n",
        "print(d6)"
      ],
      "execution_count": 21,
      "outputs": [
        {
          "output_type": "stream",
          "name": "stdout",
          "text": [
            "     PassengerId  Survived  Pclass  \\\n",
            "0              1         0       3   \n",
            "1              2         1       1   \n",
            "2              3         1       3   \n",
            "3              4         1       1   \n",
            "4              5         0       3   \n",
            "..           ...       ...     ...   \n",
            "716          717         1       1   \n",
            "717          718         1       2   \n",
            "718          719         0       3   \n",
            "719          720         0       3   \n",
            "720          721         1       2   \n",
            "\n",
            "                                                  Name     Sex   Age  SibSp  \\\n",
            "0                              Braund, Mr. Owen Harris    male  22.0      1   \n",
            "1    Cumings, Mrs. John Bradley (Florence Briggs Th...  female  38.0      1   \n",
            "2                               Heikkinen, Miss. Laina  female  26.0      0   \n",
            "3         Futrelle, Mrs. Jacques Heath (Lily May Peel)  female  35.0      1   \n",
            "4                             Allen, Mr. William Henry    male  35.0      0   \n",
            "..                                                 ...     ...   ...    ...   \n",
            "716                      Endres, Miss. Caroline Louise  female  38.0      0   \n",
            "717                Troutt, Miss. Edwina Celia \"Winnie\"  female  27.0      0   \n",
            "718                                McEvoy, Mr. Michael    male   NaN      0   \n",
            "719                       Johnson, Mr. Malkolm Joackim    male  33.0      0   \n",
            "720                  Harper, Miss. Annie Jessie \"Nina\"  female   6.0      0   \n",
            "\n",
            "     Parch            Ticket      Fare Cabin Embarked  \n",
            "0        0         A/5 21171    7.2500   NaN        S  \n",
            "1        0          PC 17599   71.2833   C85        C  \n",
            "2        0  STON/O2. 3101282    7.9250   NaN        S  \n",
            "3        0            113803   53.1000  C123        S  \n",
            "4        0            373450    8.0500   NaN        S  \n",
            "..     ...               ...       ...   ...      ...  \n",
            "716      0          PC 17757  227.5250   C45        C  \n",
            "717      0             34218   10.5000  E101        S  \n",
            "718      0             36568   15.5000   NaN        Q  \n",
            "719      0            347062    7.7750   NaN        S  \n",
            "720      1            248727   33.0000   NaN        S  \n",
            "\n",
            "[721 rows x 12 columns]\n"
          ]
        }
      ]
    },
    {
      "cell_type": "code",
      "metadata": {
        "colab": {
          "base_uri": "https://localhost:8080/"
        },
        "id": "vEwMMXxdqfSn",
        "outputId": "3f5e44db-d820-4653-ddab-b0b7503af1c9"
      },
      "source": [
        "d6=d4.iloc[721:891]\n",
        "print(d6)"
      ],
      "execution_count": 20,
      "outputs": [
        {
          "output_type": "stream",
          "name": "stdout",
          "text": [
            "     PassengerId  Survived  Pclass                                      Name  \\\n",
            "721          722         0       3                 Jensen, Mr. Svend Lauritz   \n",
            "722          723         0       2              Gillespie, Mr. William Henry   \n",
            "723          724         0       2                   Hodges, Mr. Henry Price   \n",
            "724          725         1       1             Chambers, Mr. Norman Campbell   \n",
            "725          726         0       3                       Oreskovic, Mr. Luka   \n",
            "..           ...       ...     ...                                       ...   \n",
            "886          887         0       2                     Montvila, Rev. Juozas   \n",
            "887          888         1       1              Graham, Miss. Margaret Edith   \n",
            "888          889         0       3  Johnston, Miss. Catherine Helen \"Carrie\"   \n",
            "889          890         1       1                     Behr, Mr. Karl Howell   \n",
            "890          891         0       3                       Dooley, Mr. Patrick   \n",
            "\n",
            "        Sex   Age  SibSp  Parch      Ticket     Fare Cabin Embarked  \n",
            "721    male  17.0      1      0      350048   7.0542   NaN        S  \n",
            "722    male  34.0      0      0       12233  13.0000   NaN        S  \n",
            "723    male  50.0      0      0      250643  13.0000   NaN        S  \n",
            "724    male  27.0      1      0      113806  53.1000    E8        S  \n",
            "725    male  20.0      0      0      315094   8.6625   NaN        S  \n",
            "..      ...   ...    ...    ...         ...      ...   ...      ...  \n",
            "886    male  27.0      0      0      211536  13.0000   NaN        S  \n",
            "887  female  19.0      0      0      112053  30.0000   B42        S  \n",
            "888  female   NaN      1      2  W./C. 6607  23.4500   NaN        S  \n",
            "889    male  26.0      0      0      111369  30.0000  C148        C  \n",
            "890    male  32.0      0      0      370376   7.7500   NaN        Q  \n",
            "\n",
            "[170 rows x 12 columns]\n"
          ]
        }
      ]
    },
    {
      "cell_type": "code",
      "metadata": {
        "colab": {
          "base_uri": "https://localhost:8080/",
          "height": 242
        },
        "id": "H8Pood3Oq5s7",
        "outputId": "66470a49-1951-4453-f221-241a410ea078"
      },
      "source": [
        "g = sns.FacetGrid(d4, col='Survived')\n",
        "g.map(plt.hist, 'Age', bins=20)"
      ],
      "execution_count": 35,
      "outputs": [
        {
          "output_type": "execute_result",
          "data": {
            "text/plain": [
              "<seaborn.axisgrid.FacetGrid at 0x7f03dda06bd0>"
            ]
          },
          "metadata": {},
          "execution_count": 35
        },
        {
          "output_type": "display_data",
          "data": {
            "image/png": "[encoded data removed]",
            "text/plain": [
              "<Figure size 432x216 with 2 Axes>"
            ]
          },
          "metadata": {
            "needs_background": "light"
          }
        }
      ]
    },
    {
      "cell_type": "code",
      "metadata": {
        "colab": {
          "base_uri": "https://localhost:8080/",
          "height": 433
        },
        "id": "4WtpcQeMt_ms",
        "outputId": "0890c3df-2c73-4c93-9704-4201135090ed"
      },
      "source": [
        ""
      ],
      "execution_count": 40,
      "outputs": [
        {
          "output_type": "stream",
          "name": "stderr",
          "text": [
            "/usr/local/lib/python3.7/dist-packages/seaborn/axisgrid.py:337: UserWarning: The `size` parameter has been renamed to `height`; please update your code.\n",
            "  warnings.warn(msg, UserWarning)\n",
            "/usr/local/lib/python3.7/dist-packages/seaborn/axisgrid.py:670: UserWarning: Using the barplot function without specifying `order` is likely to produce an incorrect plot.\n",
            "  warnings.warn(warning)\n"
          ]
        },
        {
          "output_type": "execute_result",
          "data": {
            "text/plain": [
              "<seaborn.axisgrid.FacetGrid at 0x7f03c766ebd0>"
            ]
          },
          "metadata": {},
          "execution_count": 40
        },
        {
          "output_type": "display_data",
          "data": {
            "image/png": "[encoded data removed]",
            "text/plain": [
              "<Figure size 514.88x316.8 with 4 Axes>"
            ]
          },
          "metadata": {
            "needs_background": "light"
          }
        }
      ]
    }
  ]
}